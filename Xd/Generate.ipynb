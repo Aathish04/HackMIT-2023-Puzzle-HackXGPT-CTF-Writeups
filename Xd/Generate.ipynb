{
 "cells": [
  {
   "cell_type": "code",
   "execution_count": 6,
   "metadata": {},
   "outputs": [
    {
     "name": "stdout",
     "output_type": "stream",
     "text": [
      "start=1\n",
      "end=9765625\n",
      "len(numbers)=118097\n"
     ]
    }
   ],
   "source": [
    "from pathlib import Path\n",
    "with open(\"README2.txt\") as f:\n",
    "    numbers = [int(i) for i in f.read().split()]\n",
    "\n",
    "start = numbers[0]\n",
    "end = numbers[-1]\n",
    "\n",
    "print(f\"{start=}\")\n",
    "print(f\"{end=}\")\n",
    "print(f\"{len(numbers)=}\")"
   ]
  },
  {
   "cell_type": "code",
   "execution_count": null,
   "metadata": {},
   "outputs": [],
   "source": [
    "numbers.index(3906253)-numbers.index(1953128)"
   ]
  }
 ],
 "metadata": {
  "kernelspec": {
   "display_name": ".venv",
   "language": "python",
   "name": "python3"
  },
  "language_info": {
   "codemirror_mode": {
    "name": "ipython",
    "version": 3
   },
   "file_extension": ".py",
   "mimetype": "text/x-python",
   "name": "python",
   "nbconvert_exporter": "python",
   "pygments_lexer": "ipython3",
   "version": "3.11.4"
  },
  "orig_nbformat": 4
 },
 "nbformat": 4,
 "nbformat_minor": 2
}
