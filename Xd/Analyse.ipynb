{
 "cells": [
  {
   "cell_type": "code",
   "execution_count": 4,
   "metadata": {},
   "outputs": [],
   "source": [
    "from selenium import webdriver\n",
    "from selenium.webdriver.common.by import By\n",
    "from selenium.webdriver.remote.webelement import WebElement"
   ]
  },
  {
   "cell_type": "code",
   "execution_count": 5,
   "metadata": {},
   "outputs": [],
   "source": [
    "\n",
    "def sendInput(inp:str)->None:\n",
    "    terminal_input = driver.find_element(by=By.CLASS_NAME, value=\"terminalInput\")\n",
    "    inputbox = terminal_input.find_element(by=By.TAG_NAME,value=\"input\")\n",
    "    inputbox.clear()\n",
    "    inputbox.send_keys(inp)\n",
    "    inputbox.submit()\n",
    "\n",
    "def readOutput(lastval:WebElement=None)->None|WebElement:\n",
    "    terminal_output = driver.find_element(by=By.CLASS_NAME, value=\"terminalOutput\")\n",
    "    contents = terminal_output.find_elements(by=By.TAG_NAME,value=\"div\")\n",
    "    if lastval is None or contents[-1] != lastval:\n",
    "        return contents[-1]\n",
    "    else:\n",
    "        return None\n",
    "\n",
    "def checkConsole(pth:str):\n",
    "    consoleLogs = driver.get_log('browser')\n",
    "    for log in consoleLogs:\n",
    "        if \"https://xd.hackxgpt.com/static/js/main.dd2a9c60.js\" in log['message']:\n",
    "            if \"access denied\" not in log['message']:\n",
    "                print(f\"Console Says: {pth}: {log['message']}\")"
   ]
  },
  {
   "cell_type": "code",
   "execution_count": 6,
   "metadata": {},
   "outputs": [],
   "source": [
    "options = webdriver.ChromeOptions()\n",
    "options.binary_location = \"/Applications/Google Chrome.app/Contents/MacOS/Google Chrome\"\n",
    "options.set_capability('goog:loggingPrefs',{ 'browser':'ALL' })\n",
    "driver = webdriver.Chrome(options=options)\n",
    "driver.get(\"https://xd.hackxgpt.com/u/Aathish04_a362fd\")\n",
    "title = driver.title\n",
    "assert title == \"Xd\"\n",
    "driver.implicitly_wait(600)"
   ]
  },
  {
   "cell_type": "code",
   "execution_count": 7,
   "metadata": {},
   "outputs": [
    {
     "name": "stdout",
     "output_type": "stream",
     "text": [
      "Response: /\n",
      "Response:  puzzle directory generated.\n"
     ]
    }
   ],
   "source": [
    "\n",
    "sendInput(\"pwd\")\n",
    "response = readOutput()\n",
    "print(\"Response:\",response.text)\n",
    "\n",
    "driver.set_script_timeout(600)\n",
    "sendInput(\"start\")\n",
    "response = readOutput()\n",
    "print(\"Response: \", response.text)\n",
    "assert response.text == \"puzzle directory generated.\""
   ]
  },
  {
   "cell_type": "code",
   "execution_count": 65,
   "metadata": {},
   "outputs": [],
   "source": [
    "\n",
    "class DirTreeNode:\n",
    "    def __init__(self,parent,name):\n",
    "        self.fullpath = parent.fullpath+name if parent is not None else name\n",
    "        self.__cdpath(self.fullpath)\n",
    "        \n",
    "        self.files = []\n",
    "        self.unexplored = [] # List[str]\n",
    "        self.explored = [] # List[DirTree]\n",
    "\n",
    "        self.__getchildren()\n",
    "        if len(self.unexplored)==0:\n",
    "            self.__checkflag()\n",
    "        if len(self.files) > 0:\n",
    "            print(f\"{self.fullpath} has files!\")\n",
    "            if any(i == \"flag\" for i in self.files):\n",
    "                print(f\"CurDir {self.fullpath} MIGHT be flagdir. Stopping. Enter any value to proceed!\")\n",
    "                input()\n",
    "        for directory in self.unexplored:\n",
    "            self.explored.append(DirTreeNode(self,directory))\n",
    "\n",
    "    def __getchildren(self):\n",
    "        sendInput(\"ls -a\")\n",
    "        response = readOutput()\n",
    "        dircontents = [i for i in response.text.split() if i not in ('.','..')]\n",
    "        for elem in dircontents:\n",
    "            if elem.endswith('/'):\n",
    "                self.unexplored.append(elem)\n",
    "            else:\n",
    "                self.files.append(elem)\n",
    "    def __cdpath(self,pth):\n",
    "        sendInput(f\"cd {pth}\")\n",
    "\n",
    "    def __checkflag(self):\n",
    "        sendInput(\"flag\")\n",
    "        response = readOutput()\n",
    "        assert response.text == \"flag generated. check your console!\"\n",
    "        checkConsole(self.fullpath)"
   ]
  },
  {
   "cell_type": "code",
   "execution_count": 12,
   "metadata": {},
   "outputs": [
    {
     "name": "stdout",
     "output_type": "stream",
     "text": [
      "At 251. Choice between ['252/', '282/'] given. Choosing 282\n",
      "At 313. Choice between ['312/', '314/'] given. Choosing 314\n",
      "At 315. Choice between ['316/', '346/'] given. Choosing 346\n",
      "At 375. Choice between ['374/', '406/'] given. Choosing 406\n",
      "At 437. Choice between ['436/', '438/', '468/'] given. Choosing 468\n",
      "At 499. Choice between ['498/', '530/'] given. Choosing 530\n",
      "At 685. Choice between ['684/', '686/', '716/'] given. Choosing 686\n",
      "At 687. Choice between ['656/', '718/'] given. Choosing 718\n",
      "At 811. Choice between ['812/', '842/'] given. Choosing 812\n",
      "At 813. Choice between ['782/', '844/'] given. Choosing 782\n",
      "At 691. Choice between ['660/', '722/'] given. Choosing 722\n",
      "At 753. Choice between ['754/', '784/'] given. Choosing 754\n",
      "At 755. Choice between ['724/', '786/'] given. Choosing 786\n",
      "At 817. Choice between ['818/', '848/'] given. Choosing 818\n",
      "At 819. Choice between ['788/', '850/'] given. Choosing 788\n",
      "At 757. Choice between ['726/', '758/'] given. Choosing 726\n",
      "At 697. Choice between ['666/', '698/'] given. Choosing 698\n",
      "At 639. Choice between ['608/', '640/'] given. Choosing 640\n",
      "At 641. Choice between ['642/', '672/'] given. Choosing 672\n",
      "At 827. Choice between ['796/', '828/', '858/'] given. Choosing 828\n",
      "At 895. Choice between ['864/', '926/'] given. Choosing 926\n",
      "At 959. Choice between ['928/', '960/'] given. Choosing 960\n"
     ]
    }
   ],
   "source": [
    "# DirTreeNode(None,\"/part1/puzzle/\")\n",
    "\n",
    "followpath = \"1/2/3/34/65/64/63/94/125/156/187/218/249/250/251/282/313/314/315/346/377/376/375/406/437/468/499/530/561/560/559/590/621/622/623/654/685/686/687/718/749/780/811/812/813/782/751/720/689/690/691/722/753/754/755/786/817/818/819/788/757/726/695/696/697/698/699/668/637/638/639/640/641/672/703/702/701/732/763/762/761/792/823/824/825/826/827/828/829/860/891/922/953/954/955/924/893/894/895/926/957/958/959/960/961\".split(\"/\")\n",
    "init = \"/part1/puzzle\"\n",
    "\n",
    "sendInput(f\"cd {init}\")\n",
    "\n",
    "for i,folder in enumerate(followpath):\n",
    "    sendInput(f\"cd {folder}\")\n",
    "    sendInput(f\"ls\")\n",
    "    response = readOutput()\n",
    "    options = response.text.split()\n",
    "    if len(options) > 1:\n",
    "        print(f\"At {folder}. Choice between {options} given. Choosing {followpath[i+1]}\")\n"
   ]
  },
  {
   "cell_type": "code",
   "execution_count": 27,
   "metadata": {},
   "outputs": [],
   "source": [
    "# I manually stopped the loop after it said the directory has files!\n",
    "\n",
    "AbsoluteTruth = \"/part1/puzzle/1/2/3/34/65/64/63/94/125/156/187/218/249/250/251/282/313/314/315/346/377/376/375/406/437/468/499/530/561/560/559/590/621/622/623/654/685/686/687/718/749/780/811/812/813/782/751/720/689/690/691/722/753/754/755/786/817/818/819/788/757/726/695/696/697/698/699/668/637/638/639/640/641/672/703/702/701/732/763/762/761/792/823/824/825/826/827/828/829/860/891/922/953/954/955/924/893/894/895/926/957/958/959/960/961/\"\n",
    "FlagPart1 = \"974b232ed0b1dad7e3b9962bc70e3cd8\""
   ]
  },
  {
   "cell_type": "code",
   "execution_count": 71,
   "metadata": {},
   "outputs": [
    {
     "data": {
      "text/plain": [
       "[1,\n",
       " 1,\n",
       " 31,\n",
       " 31,\n",
       " -1,\n",
       " -1,\n",
       " 31,\n",
       " 31,\n",
       " 31,\n",
       " 31,\n",
       " 31,\n",
       " 31,\n",
       " 1,\n",
       " 1,\n",
       " 31,\n",
       " 31,\n",
       " 1,\n",
       " 1,\n",
       " 31,\n",
       " 31,\n",
       " -1,\n",
       " -1,\n",
       " 31,\n",
       " 31,\n",
       " 31,\n",
       " 31,\n",
       " 31,\n",
       " 31,\n",
       " -1,\n",
       " -1,\n",
       " 31,\n",
       " 31,\n",
       " 1,\n",
       " 1,\n",
       " 31,\n",
       " 31,\n",
       " 1,\n",
       " 1,\n",
       " 31,\n",
       " 31,\n",
       " 31,\n",
       " 31,\n",
       " 1,\n",
       " 1,\n",
       " -31,\n",
       " -31,\n",
       " -31,\n",
       " -31,\n",
       " 1,\n",
       " 1,\n",
       " 31,\n",
       " 31,\n",
       " 1,\n",
       " 1,\n",
       " 31,\n",
       " 31,\n",
       " 1,\n",
       " 1,\n",
       " -31,\n",
       " -31,\n",
       " -31,\n",
       " -31,\n",
       " 1,\n",
       " 1,\n",
       " 1,\n",
       " 1,\n",
       " -31,\n",
       " -31,\n",
       " 1,\n",
       " 1,\n",
       " 1,\n",
       " 1,\n",
       " 31,\n",
       " 31,\n",
       " -1,\n",
       " -1,\n",
       " 31,\n",
       " 31,\n",
       " -1,\n",
       " -1,\n",
       " 31,\n",
       " 31,\n",
       " 1,\n",
       " 1,\n",
       " 1,\n",
       " 1,\n",
       " 1,\n",
       " 1,\n",
       " 31,\n",
       " 31,\n",
       " 31,\n",
       " 31,\n",
       " 1,\n",
       " 1,\n",
       " -31,\n",
       " -31,\n",
       " 1,\n",
       " 1,\n",
       " 31,\n",
       " 31,\n",
       " 1,\n",
       " 1,\n",
       " 1,\n",
       " 1]"
      ]
     },
     "execution_count": 71,
     "metadata": {},
     "output_type": "execute_result"
    }
   ],
   "source": [
    "numbers = [int(i) for i in AbsoluteTruth.split(\"/\") if i.isnumeric()]\n",
    "len(numbers)\n",
    "diffs = []\n",
    "for i in range(1,len(numbers)):\n",
    "    diffs.append(numbers[i]-numbers[i-1])\n",
    "diffs"
   ]
  },
  {
   "cell_type": "code",
   "execution_count": 72,
   "metadata": {},
   "outputs": [],
   "source": [
    "driver.quit()"
   ]
  },
  {
   "cell_type": "code",
   "execution_count": 28,
   "metadata": {},
   "outputs": [
    {
     "name": "stdout",
     "output_type": "stream",
     "text": [
      "2/3/Cant find anything that matches after number=3.\n"
     ]
    }
   ],
   "source": [
    "with open(\"README1.txt\") as f:\n",
    "    numbers = [int(i) for i in f.read().split()]\n",
    "\n",
    "lastnum = None\n",
    "i = 0\n",
    "\n",
    "while numbers[i]!=numbers[-1]:\n",
    "    add31 = numbers[i]+31\n",
    "    add1 = numbers[i]+1\n",
    "    sub1 = numbers[i]-1\n",
    "    sub31 = numbers[i]-31\n",
    "    if add31 in numbers and add31!=lastnum:\n",
    "        lastnum = numbers[i]\n",
    "        i = numbers.index(add31)\n",
    "    elif add1 in numbers and add1!=lastnum :\n",
    "        lastnum = numbers[i]\n",
    "        i = numbers.index(add1)\n",
    "    elif numbers[i]-1 in numbers and numbers[i]-1!=lastnum:\n",
    "        lastnum = numbers[i]\n",
    "        i = numbers.index(sub1)\n",
    "    elif numbers[i]-31 in numbers and numbers[i]-31!=lastnum:\n",
    "        lastnum = numbers[i]\n",
    "        i = numbers.index(sub31)\n",
    "    else:\n",
    "        print(f\"Cant find anything that matches after number={numbers[i]}.\")\n",
    "        break\n",
    "    print(numbers[i],end=\"/\")"
   ]
  }
 ],
 "metadata": {
  "kernelspec": {
   "display_name": ".venv",
   "language": "python",
   "name": "python3"
  },
  "language_info": {
   "codemirror_mode": {
    "name": "ipython",
    "version": 3
   },
   "file_extension": ".py",
   "mimetype": "text/x-python",
   "name": "python",
   "nbconvert_exporter": "python",
   "pygments_lexer": "ipython3",
   "version": "3.11.4"
  },
  "orig_nbformat": 4
 },
 "nbformat": 4,
 "nbformat_minor": 2
}
